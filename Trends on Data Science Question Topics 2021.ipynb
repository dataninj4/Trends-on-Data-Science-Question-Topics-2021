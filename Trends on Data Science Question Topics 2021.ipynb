{
 "cells": [
  {
   "cell_type": "markdown",
   "metadata": {},
   "source": [
    "# Trends on Data Science Question Topics 2021\n",
    "\n",
    "Data Science Stack Exchange (DSSE) is a question and answer site for Data science professionals, Machine Learning specialists, and those interested in learning more about the field.\n",
    "\n",
    "\n",
    "The DSSE home site subdivides into the categories\n",
    "- Questions\n",
    "- Tags\n",
    "- Users\n",
    "- Unanswered\n",
    "- Jobs\n",
    "- Companies \n",
    "\n",
    "For our purpose to analyse Data Science question topics, the **Question** and **Tags** groupings are most interesting.\n",
    "The relevant Tags are shown within each single question page.\n",
    "\n",
    "We want to acquire the data for this analysis through the Stack Exchange Data Explorer.\n",
    "\n",
    "When checking the available tables for queries, the **posts** table seems to be the most interesting type of data.\n",
    "Let's get the tags associated with posts and count them:\n",
    "\n",
    "```\n",
    "SELECT TOP 100 *\n",
    "  FROM tags\n",
    " ORDER BY Count DESC;\n",
    "```\n",
    "\n",
    "https://data.stackexchange.com/datascience/query/1540533\n",
    "\n",
    "\n",
    "| Id  | TagName          | Count | ExcerptPostId | WikiPostId | IsModeratorOnly | IsRequired |\n",
    "|-----|------------------|-------|---------------|------------|-----------------|------------|\n",
    "| 2   | machine-learning | 9924  | 4909          | 4908       |                 |            |\n",
    "| 46  | python           | 5930  | 5523          | 5522       |                 |            |\n",
    "| 194 | deep-learning    | 4247  | 8956          | 8955       |                 |            |\n",
    "| 81  | neural-network   | 3973  | 8885          | 8884       |                 |            |\n",
    "| 77  | classification   | 2849  | 4911          | 4910       |                 |            |\n",
    "| 324 | keras            | 2580  | 9251          | 9250       |                 |            |\n",
    "| 47  | nlp              | 2182  | 147           | 146        |                 |            |\n",
    "| 321 | tensorflow       | 2020  | 9183          | 9182       |                 |            |\n",
    "| 128 | scikit-learn     | 2013  | 5896          | 5895       |                 |            |\n",
    "| 72  | time-series      | 1567  | 8904          | 8903       |                 |            |"
   ]
  },
  {
   "cell_type": "markdown",
   "metadata": {},
   "source": [
    "The **Posts** Table has numerous fields:\n",
    "\n",
    "| Posts                      |\n",
    "|----------------------------|\n",
    "| Users                      |\n",
    "| Comments                   |\n",
    "| Badges                     |\n",
    "| CloseAsOffTopicReasonTypes |\n",
    "| CloseReasonTypes           |\n",
    "| FlagTypes                  |\n",
    "| PendingFlags               |\n",
    "| PostFeedback               |\n",
    "| PostHistory                |\n",
    "| PostHistoryTypes           |\n",
    "| PostLinks                  |\n",
    "| PostNotices                |\n",
    "| PostNoticeTypes            |\n",
    "| PostsWithDeleted           |\n",
    "| PostTags                   |\n",
    "| PostTypes                  |\n",
    "| ReviewRejectionReasons     |\n",
    "| ReviewTaskResults          |\n",
    "| ReviewTaskResultTypes      |\n",
    "| ReviewTasks                |\n",
    "| ReviewTaskStates           |\n",
    "| ReviewTaskTypes            |\n",
    "| SuggestedEdits             |\n",
    "| SuggestedEditVotes         |\n",
    "| Tags                       |\n",
    "| TagSynonyms                |\n",
    "| Votes                      |\n",
    "| VoteTypes                  |\n",
    "\n",
    "Most of these are not that much relevant to this analysis, except for the **PostTags** and the **PostType** fields.\n",
    "\n",
    "let's have a closer look on the various types of posts and check these for relevance\n",
    "\n",
    "```\n",
    "SELECT * FROM posttypes;\n",
    "```\n",
    "\n",
    "| Id | Name                |\n",
    "|----|---------------------|\n",
    "| 1  | Question            |\n",
    "| 2  | Answer              |\n",
    "| 3  | Wiki                |\n",
    "| 4  | TagWikiExcerpt      |\n",
    "| 5  | TagWiki             |\n",
    "| 6  | ModeratorNomination |\n",
    "| 7  | WikiPlaceholder     |\n",
    "| 8  | PrivilegeWiki       |\n",
    "\n",
    "\n",
    "```\n",
    "SELECT PostTypes.Name, COUNT(*) as num\n",
    "  FROM posts\n",
    "LEFT JOIN PostTypes\n",
    "ON posts.PostTypeId = PostTypes.Id\n",
    " GROUP BY PostTypes.Name\n",
    " ORDER BY PostTypes.Name ASC;\n",
    "```\n",
    "\n",
    "| Name                | num   |\n",
    "|---------------------|-------|\n",
    "| Answer              | 35253 |\n",
    "| ModeratorNomination | 11    |\n",
    "| Question            | 31894 |\n",
    "| TagWiki             | 322   |\n",
    "| TagWikiExcerpt      | 322   |\n",
    "| WikiPlaceholder     | 1     |\n",
    "\n"
   ]
  },
  {
   "cell_type": "markdown",
   "metadata": {},
   "source": [
    "It is obvious that the main post types of interest narrow down to **Questions and Answers**, as the other types do not have enough weight or a use case.\n",
    "\n",
    "In order to stay timely relevant in this fast developing field of interest, I also confine the data to Questions of the year 2021 at the time of writing this early Jan '22."
   ]
  },
  {
   "cell_type": "markdown",
   "metadata": {},
   "source": [
    "Okay these query conditions translated to T-SQL I'll go along with this code:\n",
    "\n",
    "```\n",
    "SELECT Id, PostTypeId, CreationDate, Score, ViewCount, Tags, AnswerCount, FavoriteCount\n",
    "FROM posts\n",
    "WHERE CreationDate >= '01.01.2021' AND CreationDate < '01.01.2022' AND PostTypeId IN (1,2)\n",
    "```\n",
    "\n",
    "resulting in this data (cutoff after 10 records)\n",
    "\n",
    "| Id    | PostTypeId | CreationDate        | Score | ViewCount | Tags                                                                                | AnswerCount | FavoriteCount |\n",
    "|-------|------------|---------------------|-------|-----------|-------------------------------------------------------------------------------------|-------------|---------------|\n",
    "| 90018 | 1          | 2021-02-27 10:13:26 | 0     | 69        | neural-networknlprnnsequence-to-sequence                                    | 2           |               |\n",
    "| 90020 | 1          | 2021-02-27 11:37:46 | 0     | 18        | lstmtransformerparameter                                                      | 0           |               |\n",
    "| 90021 | 2          | 2021-02-27 12:57:10 | 0     |           |                                                                                     |             |               |\n",
    "| 90023 | 1          | 2021-02-27 14:02:28 | 1     | 229       | machine-learningclusteringsimilarity                                          | 1           |               |\n",
    "| 90026 | 1          | 2021-02-27 15:06:52 | 1     | 453       | machine-learningaccuracynaive-bayes-classifier                                | 1           |               |\n",
    "| 90027 | 1          | 2021-02-27 16:08:02 | 0     | 63        | machine-learningregressionlinear-regressiongradient-descentlinear-algebra | 1           |               |\n",
    "| 90028 | 2          | 2021-02-27 16:35:42 | 0     |           |                                                                                     |             |               |\n",
    "| 90029 | 1          | 2021-02-27 16:38:59 | 0     | 69        | pythonpandasdata-cleaning                                                     | 1           |               |\n",
    "| 90030 | 2          | 2021-02-27 17:59:29 | 1     |           |                                                                                     |             |               |\n",
    "| 90031 | 2          | 2021-02-27 18:00:14 | 2     |           |                                                                                     |             |               |\n",
    "\n",
    "for pandas I will import a file instead:"
   ]
  },
  {
   "cell_type": "code",
   "execution_count": 2,
   "metadata": {},
   "outputs": [],
   "source": [
    "import pandas as pd\n",
    "\n",
    "# importing filed query results\n",
    "df = pd.read_csv('QueryResults.csv', parse_dates=['CreationDate'])"
   ]
  },
  {
   "cell_type": "markdown",
   "metadata": {},
   "source": [
    "## Data Exploration\n",
    "\n",
    "A lot of fields remain systematically empty in the queried data, in case of PostType 'Answer' the fields ```\n",
    "'Viewcount', 'Tags', 'Answercount' , 'Favoritecount'```\n",
    "are properties of the Question and not of each individual Answers. \n",
    "\n",
    "And the field Favoritecount has a lot of missing values just because probably not a lot of Questions have been tagged as such.\n",
    "\n",
    "In terms of Postype 'Answer' is is really questionable if the remaining information in these Answer rows really is worth something, as just the date and score is populated and given the fact that the answercount is given in each Question already."
   ]
  },
  {
   "cell_type": "code",
   "execution_count": 3,
   "metadata": {},
   "outputs": [
    {
     "name": "stdout",
     "output_type": "stream",
     "text": [
      "<class 'pandas.core.frame.DataFrame'>\n",
      "RangeIndex: 11733 entries, 0 to 11732\n",
      "Data columns (total 8 columns):\n",
      " #   Column         Non-Null Count  Dtype         \n",
      "---  ------         --------------  -----         \n",
      " 0   Id             11733 non-null  int64         \n",
      " 1   PostTypeId     11733 non-null  int64         \n",
      " 2   CreationDate   11733 non-null  datetime64[ns]\n",
      " 3   Score          11733 non-null  int64         \n",
      " 4   ViewCount      6765 non-null   float64       \n",
      " 5   Tags           6765 non-null   object        \n",
      " 6   AnswerCount    6765 non-null   float64       \n",
      " 7   FavoriteCount  554 non-null    float64       \n",
      "dtypes: datetime64[ns](1), float64(3), int64(3), object(1)\n",
      "memory usage: 733.4+ KB\n"
     ]
    }
   ],
   "source": [
    "df.info()"
   ]
  },
  {
   "cell_type": "markdown",
   "metadata": {},
   "source": [
    "The Data types for the table fields seem adequate for now.\n",
    "\n",
    "The 'Tags' field has all tags concatenated with a Separator, this is one thing that we need to wrangle with in order to be able to work with any Tag."
   ]
  },
  {
   "cell_type": "code",
   "execution_count": 4,
   "metadata": {},
   "outputs": [],
   "source": [
    "import numpy as np\n",
    "\n",
    "# clean the tags column for list use by removing/replacing greater/less than chars and removing last comma\n",
    "df['Tags'] = df.Tags.str.replace('<', '').str.replace('>', ',' )#.str.rstrip(',')\n",
    "\n",
    "# fill missing values with zeros\n",
    "df = df.fillna(0)\n",
    "\n",
    "# rationalize columns to appropiate data type as we deal with low integer values and not floats\n",
    "df = df.astype({'ViewCount': np.int64, 'AnswerCount': np.int64, 'FavoriteCount': np.int64})"
   ]
  },
  {
   "cell_type": "code",
   "execution_count": 5,
   "metadata": {},
   "outputs": [
    {
     "name": "stdout",
     "output_type": "stream",
     "text": [
      "<class 'pandas.core.frame.DataFrame'>\n",
      "RangeIndex: 11733 entries, 0 to 11732\n",
      "Data columns (total 8 columns):\n",
      " #   Column         Non-Null Count  Dtype         \n",
      "---  ------         --------------  -----         \n",
      " 0   Id             11733 non-null  int64         \n",
      " 1   PostTypeId     11733 non-null  int64         \n",
      " 2   CreationDate   11733 non-null  datetime64[ns]\n",
      " 3   Score          11733 non-null  int64         \n",
      " 4   ViewCount      11733 non-null  int64         \n",
      " 5   Tags           11733 non-null  object        \n",
      " 6   AnswerCount    11733 non-null  int64         \n",
      " 7   FavoriteCount  11733 non-null  int64         \n",
      "dtypes: datetime64[ns](1), int64(6), object(1)\n",
      "memory usage: 733.4+ KB\n"
     ]
    }
   ],
   "source": [
    "df.info()"
   ]
  },
  {
   "cell_type": "code",
   "execution_count": 6,
   "metadata": {},
   "outputs": [
    {
     "data": {
      "text/plain": [
       "21359"
      ]
     },
     "execution_count": 6,
     "metadata": {},
     "output_type": "execute_result"
    }
   ],
   "source": [
    "# one large list\n",
    "taglist = df.Tags.tolist()\n",
    "# remove the zeros\n",
    "taglist = [i for i in taglist if i != 0 and i != '']\n",
    "# union\n",
    "string = ''.join(taglist)\n",
    "# split into elements by comma\n",
    "taglist = string.split(\",\")\n",
    "taglist = taglist[:-1] #last element always empty\n",
    "len(taglist)"
   ]
  },
  {
   "cell_type": "code",
   "execution_count": 7,
   "metadata": {},
   "outputs": [
    {
     "data": {
      "text/plain": [
       "['cost-function', 'machine-learning', 'neural-network', 'predictive-modeling']"
      ]
     },
     "execution_count": 7,
     "metadata": {},
     "output_type": "execute_result"
    }
   ],
   "source": [
    "taglist[-4:]"
   ]
  },
  {
   "cell_type": "code",
   "execution_count": 8,
   "metadata": {},
   "outputs": [
    {
     "data": {
      "text/plain": [
       "Index(['machine-learning', 'python', 'deep-learning', 'neural-network', 'nlp',\n",
       "       'keras', 'classification', 'tensorflow', 'time-series', 'scikit-learn',\n",
       "       'dataset', 'cnn', 'regression', 'pandas', 'pytorch', 'clustering',\n",
       "       'lstm', 'statistics', 'convolutional-neural-network',\n",
       "       'machine-learning-model'],\n",
       "      dtype='object', name='Tag')"
      ]
     },
     "execution_count": 8,
     "metadata": {},
     "output_type": "execute_result"
    }
   ],
   "source": [
    "tagfreq = pd.Series(taglist).value_counts().sort_index().reset_index().reset_index(drop=True)\n",
    "tagfreq.columns = ['Tag', 'TagCount']\n",
    "tagfreq = tagfreq[tagfreq['Tag'] != '']\n",
    "tagfreq = tagfreq.set_index('Tag')\n",
    "\n",
    "# tag assignment frequency\n",
    "tagfreq = tagfreq.sort_values('TagCount', ascending=False)#[0:20]\n",
    "\n",
    "tagfreq.index[0:20]\n",
    "#tagfreq"
   ]
  },
  {
   "cell_type": "code",
   "execution_count": 9,
   "metadata": {},
   "outputs": [
    {
     "data": {
      "text/plain": [
       "['neural-network', 'nlp', 'rnn', 'sequence-to-sequence', '']"
      ]
     },
     "execution_count": 9,
     "metadata": {},
     "output_type": "execute_result"
    }
   ],
   "source": [
    "df.iloc[0,:].Tags.split(\",\")"
   ]
  },
  {
   "cell_type": "code",
   "execution_count": 10,
   "metadata": {},
   "outputs": [
    {
     "name": "stdout",
     "output_type": "stream",
     "text": [
      "Wall time: 13.5 s\n"
     ]
    },
    {
     "data": {
      "text/html": [
       "<div>\n",
       "<style scoped>\n",
       "    .dataframe tbody tr th:only-of-type {\n",
       "        vertical-align: middle;\n",
       "    }\n",
       "\n",
       "    .dataframe tbody tr th {\n",
       "        vertical-align: top;\n",
       "    }\n",
       "\n",
       "    .dataframe thead th {\n",
       "        text-align: right;\n",
       "    }\n",
       "</style>\n",
       "<table border=\"1\" class=\"dataframe\">\n",
       "  <thead>\n",
       "    <tr style=\"text-align: right;\">\n",
       "      <th></th>\n",
       "      <th>TagCount</th>\n",
       "      <th>ViewCount</th>\n",
       "    </tr>\n",
       "    <tr>\n",
       "      <th>Tag</th>\n",
       "      <th></th>\n",
       "      <th></th>\n",
       "    </tr>\n",
       "  </thead>\n",
       "  <tbody>\n",
       "    <tr>\n",
       "      <th>machine-learning</th>\n",
       "      <td>1790</td>\n",
       "      <td>111468</td>\n",
       "    </tr>\n",
       "    <tr>\n",
       "      <th>python</th>\n",
       "      <td>1247</td>\n",
       "      <td>147464</td>\n",
       "    </tr>\n",
       "    <tr>\n",
       "      <th>deep-learning</th>\n",
       "      <td>976</td>\n",
       "      <td>72704</td>\n",
       "    </tr>\n",
       "    <tr>\n",
       "      <th>neural-network</th>\n",
       "      <td>622</td>\n",
       "      <td>35171</td>\n",
       "    </tr>\n",
       "    <tr>\n",
       "      <th>nlp</th>\n",
       "      <td>552</td>\n",
       "      <td>39667</td>\n",
       "    </tr>\n",
       "    <tr>\n",
       "      <th>keras</th>\n",
       "      <td>547</td>\n",
       "      <td>62558</td>\n",
       "    </tr>\n",
       "    <tr>\n",
       "      <th>classification</th>\n",
       "      <td>538</td>\n",
       "      <td>32304</td>\n",
       "    </tr>\n",
       "    <tr>\n",
       "      <th>tensorflow</th>\n",
       "      <td>537</td>\n",
       "      <td>62481</td>\n",
       "    </tr>\n",
       "    <tr>\n",
       "      <th>time-series</th>\n",
       "      <td>418</td>\n",
       "      <td>24856</td>\n",
       "    </tr>\n",
       "    <tr>\n",
       "      <th>scikit-learn</th>\n",
       "      <td>375</td>\n",
       "      <td>46957</td>\n",
       "    </tr>\n",
       "    <tr>\n",
       "      <th>dataset</th>\n",
       "      <td>278</td>\n",
       "      <td>20710</td>\n",
       "    </tr>\n",
       "    <tr>\n",
       "      <th>cnn</th>\n",
       "      <td>278</td>\n",
       "      <td>29765</td>\n",
       "    </tr>\n",
       "    <tr>\n",
       "      <th>regression</th>\n",
       "      <td>253</td>\n",
       "      <td>12148</td>\n",
       "    </tr>\n",
       "    <tr>\n",
       "      <th>pandas</th>\n",
       "      <td>226</td>\n",
       "      <td>48785</td>\n",
       "    </tr>\n",
       "    <tr>\n",
       "      <th>pytorch</th>\n",
       "      <td>225</td>\n",
       "      <td>22519</td>\n",
       "    </tr>\n",
       "    <tr>\n",
       "      <th>clustering</th>\n",
       "      <td>222</td>\n",
       "      <td>10495</td>\n",
       "    </tr>\n",
       "    <tr>\n",
       "      <th>lstm</th>\n",
       "      <td>220</td>\n",
       "      <td>14000</td>\n",
       "    </tr>\n",
       "    <tr>\n",
       "      <th>statistics</th>\n",
       "      <td>207</td>\n",
       "      <td>10171</td>\n",
       "    </tr>\n",
       "    <tr>\n",
       "      <th>convolutional-neural-network</th>\n",
       "      <td>206</td>\n",
       "      <td>22508</td>\n",
       "    </tr>\n",
       "    <tr>\n",
       "      <th>machine-learning-model</th>\n",
       "      <td>202</td>\n",
       "      <td>12935</td>\n",
       "    </tr>\n",
       "  </tbody>\n",
       "</table>\n",
       "</div>"
      ],
      "text/plain": [
       "                              TagCount  ViewCount\n",
       "Tag                                              \n",
       "machine-learning                  1790     111468\n",
       "python                            1247     147464\n",
       "deep-learning                      976      72704\n",
       "neural-network                     622      35171\n",
       "nlp                                552      39667\n",
       "keras                              547      62558\n",
       "classification                     538      32304\n",
       "tensorflow                         537      62481\n",
       "time-series                        418      24856\n",
       "scikit-learn                       375      46957\n",
       "dataset                            278      20710\n",
       "cnn                                278      29765\n",
       "regression                         253      12148\n",
       "pandas                             226      48785\n",
       "pytorch                            225      22519\n",
       "clustering                         222      10495\n",
       "lstm                               220      14000\n",
       "statistics                         207      10171\n",
       "convolutional-neural-network       206      22508\n",
       "machine-learning-model             202      12935"
      ]
     },
     "execution_count": 10,
     "metadata": {},
     "output_type": "execute_result"
    }
   ],
   "source": [
    "%%time\n",
    "# cumulated question viewcount with tag assigned\n",
    "tagfreq['ViewCount'] = 0\n",
    "\n",
    "def tag_counter(itag, df, targetcol=5, count=0):\n",
    "    for row in df.itertuples(index=False):\n",
    "        if itag in row[targetcol].split(\",\"):\n",
    "            count += row.ViewCount\n",
    "    return count\n",
    "                                                \n",
    "for itag in tagfreq.index:\n",
    "    tagfreq.at[itag,'ViewCount'] = tag_counter(itag, df[df.PostTypeId == 1])\n",
    "    \n",
    "tagfreq.iloc[0:20,:]\n",
    "\n",
    "# Wall time: 5min 38s | for index, row in df.iterrows():"
   ]
  },
  {
   "cell_type": "code",
   "execution_count": 11,
   "metadata": {},
   "outputs": [
    {
     "name": "stdout",
     "output_type": "stream",
     "text": [
      "<class 'pandas.core.frame.DataFrame'>\n",
      "Index: 603 entries, machine-learning to project-planning\n",
      "Data columns (total 2 columns):\n",
      " #   Column     Non-Null Count  Dtype\n",
      "---  ------     --------------  -----\n",
      " 0   TagCount   603 non-null    int64\n",
      " 1   ViewCount  603 non-null    int64\n",
      "dtypes: int64(2)\n",
      "memory usage: 34.1+ KB\n"
     ]
    }
   ],
   "source": [
    "tagfreq.info()"
   ]
  },
  {
   "cell_type": "code",
   "execution_count": 12,
   "metadata": {},
   "outputs": [],
   "source": [
    "import matplotlib.pyplot as plt\n",
    "import seaborn as sns\n",
    "import random\n",
    "sns.set_style('dark')\n",
    "sns.set(rc={\"figure.figsize\":(12, 8)})\n",
    "\n",
    "def plot_certain_tags(df=tagfreq, x='TagCount', y='ViewCount', h=0, i=30):\n",
    "    sns.scatterplot(x=x, y=y, data=df.iloc[h:i,:],linewidth=1, alpha = 1,edgecolor=\"black\")\n",
    "    for x,y,label,num in zip(df['TagCount'][h:i], df.ViewCount[h:i], df.index[h:i], np.arange(h,i)):\n",
    "        plt.annotate(label, (x,y), textcoords=\"offset points\", xytext=(0,10*[-1,1][random.randrange(2)]), ha='center')\n",
    "    plt.show()"
   ]
  },
  {
   "cell_type": "code",
   "execution_count": 13,
   "metadata": {},
   "outputs": [
    {
     "data": {
      "image/png": "[encoded data removed]",
      "text/plain": [
       "<Figure size 864x576 with 1 Axes>"
      ]
     },
     "metadata": {},
     "output_type": "display_data"
    }
   ],
   "source": [
    "plot_certain_tags(h=0, i=20)"
   ]
  },
  {
   "cell_type": "code",
   "execution_count": 95,
   "metadata": {},
   "outputs": [
    {
     "data": {
      "image/png": "[encoded data removed]",
      "text/plain": [
       "<Figure size 864x576 with 1 Axes>"
      ]
     },
     "metadata": {},
     "output_type": "display_data"
    }
   ],
   "source": [
    "plot_certain_tags(h=3, i=25)"
   ]
  },
  {
   "cell_type": "code",
   "execution_count": 96,
   "metadata": {},
   "outputs": [
    {
     "data": {
      "image/png": "[encoded data removed]",
      "text/plain": [
       "<Figure size 864x576 with 1 Axes>"
      ]
     },
     "metadata": {},
     "output_type": "display_data"
    }
   ],
   "source": [
    "plot_certain_tags(h=25, i=50)"
   ]
  },
  {
   "cell_type": "markdown",
   "metadata": {},
   "source": [
    "Both Tagcount and Question-Viewcount are very strongly correlated to each other and from the plots can be deduced that this relationship is fairly linear."
   ]
  },
  {
   "cell_type": "code",
   "execution_count": 16,
   "metadata": {},
   "outputs": [
    {
     "data": {
      "text/html": [
       "<div>\n",
       "<style scoped>\n",
       "    .dataframe tbody tr th:only-of-type {\n",
       "        vertical-align: middle;\n",
       "    }\n",
       "\n",
       "    .dataframe tbody tr th {\n",
       "        vertical-align: top;\n",
       "    }\n",
       "\n",
       "    .dataframe thead th {\n",
       "        text-align: right;\n",
       "    }\n",
       "</style>\n",
       "<table border=\"1\" class=\"dataframe\">\n",
       "  <thead>\n",
       "    <tr style=\"text-align: right;\">\n",
       "      <th></th>\n",
       "      <th>TagCount</th>\n",
       "      <th>ViewCount</th>\n",
       "    </tr>\n",
       "  </thead>\n",
       "  <tbody>\n",
       "    <tr>\n",
       "      <th>TagCount</th>\n",
       "      <td>1.000000</td>\n",
       "      <td>0.931483</td>\n",
       "    </tr>\n",
       "    <tr>\n",
       "      <th>ViewCount</th>\n",
       "      <td>0.931483</td>\n",
       "      <td>1.000000</td>\n",
       "    </tr>\n",
       "  </tbody>\n",
       "</table>\n",
       "</div>"
      ],
      "text/plain": [
       "           TagCount  ViewCount\n",
       "TagCount   1.000000   0.931483\n",
       "ViewCount  0.931483   1.000000"
      ]
     },
     "execution_count": 16,
     "metadata": {},
     "output_type": "execute_result"
    }
   ],
   "source": [
    "tagfreq.corr()"
   ]
  },
  {
   "cell_type": "code",
   "execution_count": 17,
   "metadata": {},
   "outputs": [],
   "source": [
    "TC20 = tagfreq.index[0:20]\n",
    "VC20 = tagfreq.sort_values('ViewCount', ascending=False).index[0:20]"
   ]
  },
  {
   "cell_type": "code",
   "execution_count": 18,
   "metadata": {},
   "outputs": [
    {
     "data": {
      "text/plain": [
       "{'classification',\n",
       " 'cnn',\n",
       " 'convolutional-neural-network',\n",
       " 'dataset',\n",
       " 'deep-learning',\n",
       " 'keras',\n",
       " 'machine-learning',\n",
       " 'neural-network',\n",
       " 'nlp',\n",
       " 'pandas',\n",
       " 'python',\n",
       " 'pytorch',\n",
       " 'scikit-learn',\n",
       " 'tensorflow',\n",
       " 'time-series'}"
      ]
     },
     "execution_count": 18,
     "metadata": {},
     "output_type": "execute_result"
    }
   ],
   "source": [
    "# tags that are in TC20 & VC20\n",
    "set(TC20).intersection(VC20)"
   ]
  },
  {
   "cell_type": "code",
   "execution_count": 19,
   "metadata": {},
   "outputs": [
    {
     "data": {
      "text/plain": [
       "{'bert',\n",
       " 'clustering',\n",
       " 'image-classification',\n",
       " 'lstm',\n",
       " 'machine-learning-model',\n",
       " 'matplotlib',\n",
       " 'numpy',\n",
       " 'regression',\n",
       " 'statistics',\n",
       " 'transformer'}"
      ]
     },
     "execution_count": 19,
     "metadata": {},
     "output_type": "execute_result"
    }
   ],
   "source": [
    "# tags that are in Top20 only in one list\n",
    "set(TC20) ^ set(VC20)\n",
    "set(TC20).symmetric_difference(VC20)"
   ]
  },
  {
   "cell_type": "code",
   "execution_count": 20,
   "metadata": {},
   "outputs": [
    {
     "data": {
      "text/plain": [
       "{'clustering', 'lstm', 'machine-learning-model', 'regression', 'statistics'}"
      ]
     },
     "execution_count": 20,
     "metadata": {},
     "output_type": "execute_result"
    }
   ],
   "source": [
    "# tags that are in TC20 only\n",
    "set(np.setdiff1d(TC20,VC20))"
   ]
  },
  {
   "cell_type": "code",
   "execution_count": 21,
   "metadata": {},
   "outputs": [
    {
     "data": {
      "text/plain": [
       "{'bert', 'image-classification', 'matplotlib', 'numpy', 'transformer'}"
      ]
     },
     "execution_count": 21,
     "metadata": {},
     "output_type": "execute_result"
    }
   ],
   "source": [
    "# tags that are in VC20 only\n",
    "set(np.setdiff1d(VC20,TC20))"
   ]
  },
  {
   "cell_type": "markdown",
   "metadata": {},
   "source": [
    "### Data Year 2021 Conclusion\n",
    "\n",
    "We can state that there is a heavy weight on **deep learning** related questions from the tag lists that we have produced, this is data from 2021 and we know from previous date that this has been similar in 2019.\n",
    "\n",
    "So let us dig in deeper into that and consider which questions do we want to count as being related to **deep learning** and how can we classify the appropiate questions as deep learning questions?\n",
    "We have to find an implementation for this."
   ]
  },
  {
   "cell_type": "markdown",
   "metadata": {},
   "source": [
    "We will waive to compare tag pairings via a matrix and heatmaps or solely hand pick a few tags.\n",
    "\n",
    "Instead we favor to mine our data by generating association rules from the frequency tag sets in order to systematically get a better grip of relations among the tags.\n",
    "\n",
    "We will use the apriori algorithm to extract frequent tagsets in order to prepare the generation of association rules.\n",
    "\n",
    "### Tag Data Mining\n"
   ]
  },
  {
   "cell_type": "code",
   "execution_count": 22,
   "metadata": {},
   "outputs": [
    {
     "name": "stdout",
     "output_type": "stream",
     "text": [
      "Wall time: 9min 49s\n"
     ]
    },
    {
     "data": {
      "text/html": [
       "<div>\n",
       "<style scoped>\n",
       "    .dataframe tbody tr th:only-of-type {\n",
       "        vertical-align: middle;\n",
       "    }\n",
       "\n",
       "    .dataframe tbody tr th {\n",
       "        vertical-align: top;\n",
       "    }\n",
       "\n",
       "    .dataframe thead th {\n",
       "        text-align: right;\n",
       "    }\n",
       "</style>\n",
       "<table border=\"1\" class=\"dataframe\">\n",
       "  <thead>\n",
       "    <tr style=\"text-align: right;\">\n",
       "      <th></th>\n",
       "      <th>indexing</th>\n",
       "      <th>attention-mechanism</th>\n",
       "      <th>ethics</th>\n",
       "      <th>metaheuristics</th>\n",
       "      <th>multi-instance-learning</th>\n",
       "      <th>lstm</th>\n",
       "      <th>bioinformatics</th>\n",
       "      <th>topic-model</th>\n",
       "      <th>distribution</th>\n",
       "      <th>predictor-importance</th>\n",
       "      <th>...</th>\n",
       "      <th>scikit-learn</th>\n",
       "      <th>neural-network</th>\n",
       "      <th>aggregation</th>\n",
       "      <th>excel</th>\n",
       "      <th>simulation</th>\n",
       "      <th>logarithmic</th>\n",
       "      <th>c++</th>\n",
       "      <th>probabilistic-programming</th>\n",
       "      <th>convolutional-neural-network</th>\n",
       "      <th>bernoulli</th>\n",
       "    </tr>\n",
       "  </thead>\n",
       "  <tbody>\n",
       "    <tr>\n",
       "      <th>1939</th>\n",
       "      <td>0</td>\n",
       "      <td>0</td>\n",
       "      <td>0</td>\n",
       "      <td>0</td>\n",
       "      <td>0</td>\n",
       "      <td>0</td>\n",
       "      <td>0</td>\n",
       "      <td>0</td>\n",
       "      <td>0</td>\n",
       "      <td>0</td>\n",
       "      <td>...</td>\n",
       "      <td>0</td>\n",
       "      <td>0</td>\n",
       "      <td>0</td>\n",
       "      <td>0</td>\n",
       "      <td>0</td>\n",
       "      <td>0</td>\n",
       "      <td>0</td>\n",
       "      <td>0</td>\n",
       "      <td>1</td>\n",
       "      <td>0</td>\n",
       "    </tr>\n",
       "    <tr>\n",
       "      <th>6199</th>\n",
       "      <td>0</td>\n",
       "      <td>0</td>\n",
       "      <td>0</td>\n",
       "      <td>0</td>\n",
       "      <td>0</td>\n",
       "      <td>0</td>\n",
       "      <td>0</td>\n",
       "      <td>0</td>\n",
       "      <td>0</td>\n",
       "      <td>0</td>\n",
       "      <td>...</td>\n",
       "      <td>0</td>\n",
       "      <td>0</td>\n",
       "      <td>0</td>\n",
       "      <td>0</td>\n",
       "      <td>0</td>\n",
       "      <td>0</td>\n",
       "      <td>0</td>\n",
       "      <td>0</td>\n",
       "      <td>0</td>\n",
       "      <td>0</td>\n",
       "    </tr>\n",
       "    <tr>\n",
       "      <th>5624</th>\n",
       "      <td>0</td>\n",
       "      <td>0</td>\n",
       "      <td>0</td>\n",
       "      <td>0</td>\n",
       "      <td>0</td>\n",
       "      <td>0</td>\n",
       "      <td>0</td>\n",
       "      <td>0</td>\n",
       "      <td>0</td>\n",
       "      <td>0</td>\n",
       "      <td>...</td>\n",
       "      <td>0</td>\n",
       "      <td>0</td>\n",
       "      <td>0</td>\n",
       "      <td>0</td>\n",
       "      <td>0</td>\n",
       "      <td>0</td>\n",
       "      <td>0</td>\n",
       "      <td>0</td>\n",
       "      <td>0</td>\n",
       "      <td>0</td>\n",
       "    </tr>\n",
       "  </tbody>\n",
       "</table>\n",
       "<p>3 rows × 603 columns</p>\n",
       "</div>"
      ],
      "text/plain": [
       "     indexing attention-mechanism ethics metaheuristics  \\\n",
       "1939        0                   0      0              0   \n",
       "6199        0                   0      0              0   \n",
       "5624        0                   0      0              0   \n",
       "\n",
       "     multi-instance-learning lstm bioinformatics topic-model distribution  \\\n",
       "1939                       0    0              0           0            0   \n",
       "6199                       0    0              0           0            0   \n",
       "5624                       0    0              0           0            0   \n",
       "\n",
       "     predictor-importance  ... scikit-learn neural-network aggregation excel  \\\n",
       "1939                    0  ...            0              0           0     0   \n",
       "6199                    0  ...            0              0           0     0   \n",
       "5624                    0  ...            0              0           0     0   \n",
       "\n",
       "     simulation logarithmic c++ probabilistic-programming  \\\n",
       "1939          0           0   0                         0   \n",
       "6199          0           0   0                         0   \n",
       "5624          0           0   0                         0   \n",
       "\n",
       "     convolutional-neural-network bernoulli  \n",
       "1939                            1         0  \n",
       "6199                            0         0  \n",
       "5624                            0         0  \n",
       "\n",
       "[3 rows x 603 columns]"
      ]
     },
     "execution_count": 22,
     "metadata": {},
     "output_type": "execute_result"
    }
   ],
   "source": [
    "%%time\n",
    "# Custom One Hot Encoding\n",
    "\n",
    "tagset = set(taglist)\n",
    "\n",
    "def DSSE_one_hot_encoder(tagset, targetcol=5, df=df):\n",
    "    encoded_df = pd.DataFrame(columns=list(tagset))\n",
    "    for question in df.itertuples():\n",
    "        question_set = set(question[targetcol+1].rstrip(',').split(\",\"))\n",
    "        unc_list = list(tagset - question_set)\n",
    "        com_list = list(tagset.intersection(question_set))\n",
    "        d1 = {key:0 for key in unc_list} # dict comprehension\n",
    "        d2 = {key:1 for key in com_list}\n",
    "        d1.update(d2)\n",
    "        encoded_df.loc[question.Index] = d1\n",
    "    return encoded_df\n",
    "\n",
    "testdf = DSSE_one_hot_encoder(tagset, targetcol=5, df=df[df.PostTypeId == 1])\n",
    "testdf.sample(3)"
   ]
  },
  {
   "cell_type": "markdown",
   "metadata": {},
   "source": [
    "Apriori will supply us with "
   ]
  },
  {
   "cell_type": "code",
   "execution_count": 24,
   "metadata": {},
   "outputs": [
    {
     "name": "stdout",
     "output_type": "stream",
     "text": [
      "Processing 6 combinations | Sampling itemset size 6e 5 4\n",
      "       support                   itemsets\n",
      "0  0.000739098                 (indexing)\n",
      "1   0.00857354      (attention-mechanism)\n",
      "2  0.000591279  (multi-instance-learning)\n",
      "3    0.0325203                     (lstm)\n",
      "4  0.000591279           (bioinformatics)\n",
      "5   0.00517369              (topic-model)\n",
      "6   0.00413895             (distribution)\n",
      "Wall time: 5min 20s\n"
     ]
    },
    {
     "data": {
      "text/plain": [
       "3657"
      ]
     },
     "execution_count": 24,
     "metadata": {},
     "output_type": "execute_result"
    }
   ],
   "source": [
    "%%time\n",
    "from mlxtend.frequent_patterns import apriori, association_rules\n",
    "\n",
    "# Apriori\n",
    "Apriori_tags = apriori(testdf, min_support=0.00035, use_colnames=True, verbose=1)\n",
    "print(Apriori_tags.head(7))\n",
    "len(Apriori_tags)"
   ]
  },
  {
   "cell_type": "markdown",
   "metadata": {},
   "source": [
    "When mining the association rules we try a few metrics to determine if the relation of two tags or more is really statistically significant and not independent. For that to test we have a few metrics to choose from and will test them on the mined rules. After a few test we choose to pick the metric 'lift':\n",
    "\n",
    "$\\text{lift}(A\\rightarrow C) = \\frac{\\text{confidence}(A\\rightarrow C)}{\\text{support}(C)}, \\;\\;\\; \\text{range: } [0, \\infty]$\n",
    "\n",
    "If tags A and C are to be statistically independent, the lift metric will have the value 1. The metric gives the factor by which the antecedent and consequent of a rule occur together in comparison to random chance and statistical independence.\n",
    "\n",
    "Together with domain knowledge we eyeball the min threshold to be 15, as then some tags not specifically related to deep-learning like \n",
    "\n",
    "```\n",
    "'feature extraction'\n",
    "'python'\n",
    "```\n",
    "get sorted out."
   ]
  },
  {
   "cell_type": "code",
   "execution_count": 54,
   "metadata": {},
   "outputs": [
    {
     "data": {
      "text/html": [
       "<div>\n",
       "<style scoped>\n",
       "    .dataframe tbody tr th:only-of-type {\n",
       "        vertical-align: middle;\n",
       "    }\n",
       "\n",
       "    .dataframe tbody tr th {\n",
       "        vertical-align: top;\n",
       "    }\n",
       "\n",
       "    .dataframe thead th {\n",
       "        text-align: right;\n",
       "    }\n",
       "</style>\n",
       "<table border=\"1\" class=\"dataframe\">\n",
       "  <thead>\n",
       "    <tr style=\"text-align: right;\">\n",
       "      <th></th>\n",
       "      <th>antecedents</th>\n",
       "      <th>consequents</th>\n",
       "      <th>antecedent support</th>\n",
       "      <th>consequent support</th>\n",
       "      <th>support</th>\n",
       "      <th>confidence</th>\n",
       "      <th>lift</th>\n",
       "      <th>leverage</th>\n",
       "      <th>conviction</th>\n",
       "    </tr>\n",
       "  </thead>\n",
       "  <tbody>\n",
       "    <tr>\n",
       "      <th>898</th>\n",
       "      <td>(numerical)</td>\n",
       "      <td>(categorical-data, feature-engineering)</td>\n",
       "      <td>0.000591</td>\n",
       "      <td>0.000591</td>\n",
       "      <td>0.000443</td>\n",
       "      <td>0.750000</td>\n",
       "      <td>1268.437500</td>\n",
       "      <td>0.000443</td>\n",
       "      <td>3.997635</td>\n",
       "    </tr>\n",
       "    <tr>\n",
       "      <th>895</th>\n",
       "      <td>(categorical-data, feature-engineering)</td>\n",
       "      <td>(numerical)</td>\n",
       "      <td>0.000591</td>\n",
       "      <td>0.000591</td>\n",
       "      <td>0.000443</td>\n",
       "      <td>0.750000</td>\n",
       "      <td>1268.437500</td>\n",
       "      <td>0.000443</td>\n",
       "      <td>3.997635</td>\n",
       "    </tr>\n",
       "    <tr>\n",
       "      <th>529</th>\n",
       "      <td>(dimensionality-reduction, visualization)</td>\n",
       "      <td>(tsne)</td>\n",
       "      <td>0.000443</td>\n",
       "      <td>0.001922</td>\n",
       "      <td>0.000443</td>\n",
       "      <td>1.000000</td>\n",
       "      <td>520.384615</td>\n",
       "      <td>0.000443</td>\n",
       "      <td>inf</td>\n",
       "    </tr>\n",
       "    <tr>\n",
       "      <th>532</th>\n",
       "      <td>(tsne)</td>\n",
       "      <td>(dimensionality-reduction, visualization)</td>\n",
       "      <td>0.001922</td>\n",
       "      <td>0.000443</td>\n",
       "      <td>0.000443</td>\n",
       "      <td>0.230769</td>\n",
       "      <td>520.384615</td>\n",
       "      <td>0.000443</td>\n",
       "      <td>1.299424</td>\n",
       "    </tr>\n",
       "    <tr>\n",
       "      <th>1411</th>\n",
       "      <td>(python, seaborn)</td>\n",
       "      <td>(matplotlib, pandas)</td>\n",
       "      <td>0.000739</td>\n",
       "      <td>0.001183</td>\n",
       "      <td>0.000443</td>\n",
       "      <td>0.600000</td>\n",
       "      <td>507.375000</td>\n",
       "      <td>0.000443</td>\n",
       "      <td>2.497044</td>\n",
       "    </tr>\n",
       "    <tr>\n",
       "      <th>...</th>\n",
       "      <td>...</td>\n",
       "      <td>...</td>\n",
       "      <td>...</td>\n",
       "      <td>...</td>\n",
       "      <td>...</td>\n",
       "      <td>...</td>\n",
       "      <td>...</td>\n",
       "      <td>...</td>\n",
       "      <td>...</td>\n",
       "    </tr>\n",
       "    <tr>\n",
       "      <th>893</th>\n",
       "      <td>(arima)</td>\n",
       "      <td>(deep-learning, time-series)</td>\n",
       "      <td>0.003991</td>\n",
       "      <td>0.007391</td>\n",
       "      <td>0.000443</td>\n",
       "      <td>0.111111</td>\n",
       "      <td>15.033333</td>\n",
       "      <td>0.000414</td>\n",
       "      <td>1.116685</td>\n",
       "    </tr>\n",
       "    <tr>\n",
       "      <th>890</th>\n",
       "      <td>(deep-learning, time-series)</td>\n",
       "      <td>(arima)</td>\n",
       "      <td>0.007391</td>\n",
       "      <td>0.003991</td>\n",
       "      <td>0.000443</td>\n",
       "      <td>0.060000</td>\n",
       "      <td>15.033333</td>\n",
       "      <td>0.000414</td>\n",
       "      <td>1.059584</td>\n",
       "    </tr>\n",
       "    <tr>\n",
       "      <th>1316</th>\n",
       "      <td>(deep-learning, time-series)</td>\n",
       "      <td>(machine-learning, lstm)</td>\n",
       "      <td>0.007391</td>\n",
       "      <td>0.005322</td>\n",
       "      <td>0.000591</td>\n",
       "      <td>0.080000</td>\n",
       "      <td>15.033333</td>\n",
       "      <td>0.000552</td>\n",
       "      <td>1.081172</td>\n",
       "    </tr>\n",
       "    <tr>\n",
       "      <th>147</th>\n",
       "      <td>(linear-regression)</td>\n",
       "      <td>(lasso)</td>\n",
       "      <td>0.015669</td>\n",
       "      <td>0.002513</td>\n",
       "      <td>0.000591</td>\n",
       "      <td>0.037736</td>\n",
       "      <td>15.016648</td>\n",
       "      <td>0.000552</td>\n",
       "      <td>1.036604</td>\n",
       "    </tr>\n",
       "    <tr>\n",
       "      <th>146</th>\n",
       "      <td>(lasso)</td>\n",
       "      <td>(linear-regression)</td>\n",
       "      <td>0.002513</td>\n",
       "      <td>0.015669</td>\n",
       "      <td>0.000591</td>\n",
       "      <td>0.235294</td>\n",
       "      <td>15.016648</td>\n",
       "      <td>0.000552</td>\n",
       "      <td>1.287202</td>\n",
       "    </tr>\n",
       "  </tbody>\n",
       "</table>\n",
       "<p>1718 rows × 9 columns</p>\n",
       "</div>"
      ],
      "text/plain": [
       "                                    antecedents  \\\n",
       "898                                 (numerical)   \n",
       "895     (categorical-data, feature-engineering)   \n",
       "529   (dimensionality-reduction, visualization)   \n",
       "532                                      (tsne)   \n",
       "1411                          (python, seaborn)   \n",
       "...                                         ...   \n",
       "893                                     (arima)   \n",
       "890                (deep-learning, time-series)   \n",
       "1316               (deep-learning, time-series)   \n",
       "147                         (linear-regression)   \n",
       "146                                     (lasso)   \n",
       "\n",
       "                                    consequents  antecedent support  \\\n",
       "898     (categorical-data, feature-engineering)            0.000591   \n",
       "895                                 (numerical)            0.000591   \n",
       "529                                      (tsne)            0.000443   \n",
       "532   (dimensionality-reduction, visualization)            0.001922   \n",
       "1411                       (matplotlib, pandas)            0.000739   \n",
       "...                                         ...                 ...   \n",
       "893                (deep-learning, time-series)            0.003991   \n",
       "890                                     (arima)            0.007391   \n",
       "1316                   (machine-learning, lstm)            0.007391   \n",
       "147                                     (lasso)            0.015669   \n",
       "146                         (linear-regression)            0.002513   \n",
       "\n",
       "      consequent support   support  confidence         lift  leverage  \\\n",
       "898             0.000591  0.000443    0.750000  1268.437500  0.000443   \n",
       "895             0.000591  0.000443    0.750000  1268.437500  0.000443   \n",
       "529             0.001922  0.000443    1.000000   520.384615  0.000443   \n",
       "532             0.000443  0.000443    0.230769   520.384615  0.000443   \n",
       "1411            0.001183  0.000443    0.600000   507.375000  0.000443   \n",
       "...                  ...       ...         ...          ...       ...   \n",
       "893             0.007391  0.000443    0.111111    15.033333  0.000414   \n",
       "890             0.003991  0.000443    0.060000    15.033333  0.000414   \n",
       "1316            0.005322  0.000591    0.080000    15.033333  0.000552   \n",
       "147             0.002513  0.000591    0.037736    15.016648  0.000552   \n",
       "146             0.015669  0.000591    0.235294    15.016648  0.000552   \n",
       "\n",
       "      conviction  \n",
       "898     3.997635  \n",
       "895     3.997635  \n",
       "529          inf  \n",
       "532     1.299424  \n",
       "1411    2.497044  \n",
       "...          ...  \n",
       "893     1.116685  \n",
       "890     1.059584  \n",
       "1316    1.081172  \n",
       "147     1.036604  \n",
       "146     1.287202  \n",
       "\n",
       "[1718 rows x 9 columns]"
      ]
     },
     "execution_count": 54,
     "metadata": {},
     "output_type": "execute_result"
    }
   ],
   "source": [
    "chosen_metric = 'lift'\n",
    "thresholds = {'lift': 15, 'conviction': 1, 'leverage': 0.0001}\n",
    "\n",
    "rules = association_rules(Apriori_tags, metric=chosen_metric, min_threshold=thresholds[chosen_metric])\n",
    "rules.sort_values(chosen_metric, ascending=False)"
   ]
  },
  {
   "cell_type": "code",
   "execution_count": 55,
   "metadata": {},
   "outputs": [
    {
     "name": "stdout",
     "output_type": "stream",
     "text": [
      "41\n"
     ]
    },
    {
     "data": {
      "text/plain": [
       "{'activation-function',\n",
       " 'arima',\n",
       " 'attention-mechanism',\n",
       " 'bert',\n",
       " 'cnn',\n",
       " 'computer-vision',\n",
       " 'convolution',\n",
       " 'convolutional-neural-network',\n",
       " 'data-augmentation',\n",
       " 'data-science-model',\n",
       " 'dqn',\n",
       " 'faster-rcnn',\n",
       " 'forecasting',\n",
       " 'gan',\n",
       " 'generative-models',\n",
       " 'gradient-descent',\n",
       " 'huggingface',\n",
       " 'image-classification',\n",
       " 'keras',\n",
       " 'language-model',\n",
       " 'lstm',\n",
       " 'machine-learning',\n",
       " 'masking',\n",
       " 'mini-batch-gradient-descent',\n",
       " 'neural-network',\n",
       " 'nlp',\n",
       " 'object-detection',\n",
       " 'policy-gradients',\n",
       " 'python',\n",
       " 'pytorch',\n",
       " 'q-learning',\n",
       " 'reinforcement-learning',\n",
       " 'rnn',\n",
       " 'semantic-segmentation',\n",
       " 'siamese-networks',\n",
       " 'tensorflow',\n",
       " 'time-series',\n",
       " 'training',\n",
       " 'transformer',\n",
       " 'validation',\n",
       " 'yolo'}"
      ]
     },
     "execution_count": 55,
     "metadata": {},
     "output_type": "execute_result"
    }
   ],
   "source": [
    "# collect all tags where the tag 'deep-learning' is in any of antecedents or consequents sets\n",
    "\n",
    "def collect_associated_tags(df=rules, targetcols=(0,1), source_tag='deep-learning'):\n",
    "    target_tags = set()\n",
    "    for rule in rules.itertuples(index=False):\n",
    "        rule_tag_set = set(rule[targetcols[0]])\n",
    "        rule_tag_set.update(set(rule[targetcols[1]]))\n",
    "        if source_tag in rule_tag_set:\n",
    "            target_tags.update(rule_tag_set)\n",
    "    target_tags.discard(source_tag)\n",
    "    return target_tags\n",
    "\n",
    "associated_tags = collect_associated_tags()\n",
    "print(len(associated_tags))\n",
    "associated_tags"
   ]
  },
  {
   "cell_type": "markdown",
   "metadata": {},
   "source": [
    "Applying domain knowledge we remove tags that represent general concepts, languages, application types, algorithms etc that are not predominantly related to deep learning:"
   ]
  },
  {
   "cell_type": "code",
   "execution_count": 56,
   "metadata": {},
   "outputs": [
    {
     "data": {
      "text/plain": [
       "{'activation-function',\n",
       " 'attention-mechanism',\n",
       " 'bert',\n",
       " 'cnn',\n",
       " 'computer-vision',\n",
       " 'convolution',\n",
       " 'convolutional-neural-network',\n",
       " 'dqn',\n",
       " 'faster-rcnn',\n",
       " 'gan',\n",
       " 'generative-models',\n",
       " 'huggingface',\n",
       " 'image-classification',\n",
       " 'keras',\n",
       " 'language-model',\n",
       " 'lstm',\n",
       " 'masking',\n",
       " 'neural-network',\n",
       " 'nlp',\n",
       " 'object-detection',\n",
       " 'policy-gradients',\n",
       " 'pytorch',\n",
       " 'q-learning',\n",
       " 'reinforcement-learning',\n",
       " 'rnn',\n",
       " 'semantic-segmentation',\n",
       " 'siamese-networks',\n",
       " 'tensorflow',\n",
       " 'training',\n",
       " 'transformer',\n",
       " 'yolo'}"
      ]
     },
     "execution_count": 56,
     "metadata": {},
     "output_type": "execute_result"
    }
   ],
   "source": [
    "associated_tags = associated_tags - set(['machine-learning', 'data-augmentation', 'arima', 'data-science-model', 'forecasting', 'gradient-descent', 'mini-batch-gradient-descent', 'python', 'time-series', 'validation'])\n",
    "associated_tags"
   ]
  },
  {
   "cell_type": "markdown",
   "metadata": {},
   "source": [
    "Okay we have found our set of tags that can be used to define questions as **deep-learning** questions.\n",
    "\n",
    "Now we can track interest in deep learning and have a look over a widened time horizon how deep learning related questions have developed over time by fetching all-time tag related data."
   ]
  },
  {
   "cell_type": "markdown",
   "metadata": {},
   "source": [
    "\n",
    "\n",
    "### Alltime question data"
   ]
  },
  {
   "cell_type": "code",
   "execution_count": 29,
   "metadata": {},
   "outputs": [],
   "source": [
    "allquest = pd.read_csv('all_questions_Jan22.csv', parse_dates=['CreationDate'])"
   ]
  },
  {
   "cell_type": "code",
   "execution_count": 30,
   "metadata": {},
   "outputs": [
    {
     "data": {
      "text/plain": [
       "97297"
      ]
     },
     "execution_count": 30,
     "metadata": {},
     "output_type": "execute_result"
    }
   ],
   "source": [
    "# processing tags\n",
    "\n",
    "# comma separate\n",
    "allquest['Tags'] = allquest.Tags.str.replace('<', '').str.replace('>', ',' )#.str.rstrip(',')\n",
    "# one large list\n",
    "taglist = allquest.Tags.tolist()\n",
    "# remove the zeros\n",
    "taglist = [i for i in taglist if i != 0 and i != '']\n",
    "# union\n",
    "string = ''.join(taglist)\n",
    "# split into elements by comma\n",
    "taglist = string.split(\",\")  \n",
    "len(taglist)"
   ]
  },
  {
   "cell_type": "code",
   "execution_count": 31,
   "metadata": {},
   "outputs": [
    {
     "data": {
      "text/plain": [
       "Index(['machine-learning', 'python', 'deep-learning', 'neural-network',\n",
       "       'classification', 'keras', 'nlp', 'tensorflow', 'scikit-learn',\n",
       "       'time-series', 'r', 'regression', 'dataset', 'clustering', 'cnn',\n",
       "       'pandas', 'data-mining', 'predictive-modeling', 'lstm', 'statistics'],\n",
       "      dtype='object', name='Tag')"
      ]
     },
     "execution_count": 31,
     "metadata": {},
     "output_type": "execute_result"
    }
   ],
   "source": [
    "# counting tag assignments\n",
    "alltime_tagfreq = pd.Series(taglist).value_counts().sort_index().reset_index().reset_index(drop=True)\n",
    "alltime_tagfreq.columns = ['Tag', 'TagCount']\n",
    "alltime_tagfreq = alltime_tagfreq[alltime_tagfreq['Tag'] != '']\n",
    "alltime_tagfreq = alltime_tagfreq.set_index('Tag')\n",
    "alltime_tagfreq = alltime_tagfreq.sort_values('TagCount', ascending=False)#[0:20]\n",
    "\n",
    "alltime_tagfreq.index[0:20]"
   ]
  },
  {
   "cell_type": "code",
   "execution_count": 33,
   "metadata": {},
   "outputs": [
    {
     "data": {
      "text/html": [
       "<div>\n",
       "<style scoped>\n",
       "    .dataframe tbody tr th:only-of-type {\n",
       "        vertical-align: middle;\n",
       "    }\n",
       "\n",
       "    .dataframe tbody tr th {\n",
       "        vertical-align: top;\n",
       "    }\n",
       "\n",
       "    .dataframe thead th {\n",
       "        text-align: right;\n",
       "    }\n",
       "</style>\n",
       "<table border=\"1\" class=\"dataframe\">\n",
       "  <thead>\n",
       "    <tr style=\"text-align: right;\">\n",
       "      <th></th>\n",
       "      <th>TagCount</th>\n",
       "    </tr>\n",
       "    <tr>\n",
       "      <th>Tag</th>\n",
       "      <th></th>\n",
       "    </tr>\n",
       "  </thead>\n",
       "  <tbody>\n",
       "    <tr>\n",
       "      <th>machine-learning</th>\n",
       "      <td>9924</td>\n",
       "    </tr>\n",
       "    <tr>\n",
       "      <th>python</th>\n",
       "      <td>5930</td>\n",
       "    </tr>\n",
       "    <tr>\n",
       "      <th>deep-learning</th>\n",
       "      <td>4247</td>\n",
       "    </tr>\n",
       "    <tr>\n",
       "      <th>neural-network</th>\n",
       "      <td>3973</td>\n",
       "    </tr>\n",
       "    <tr>\n",
       "      <th>classification</th>\n",
       "      <td>2849</td>\n",
       "    </tr>\n",
       "  </tbody>\n",
       "</table>\n",
       "</div>"
      ],
      "text/plain": [
       "                  TagCount\n",
       "Tag                       \n",
       "machine-learning      9924\n",
       "python                5930\n",
       "deep-learning         4247\n",
       "neural-network        3973\n",
       "classification        2849"
      ]
     },
     "execution_count": 33,
     "metadata": {},
     "output_type": "execute_result"
    }
   ],
   "source": [
    "alltime_tagfreq.head()"
   ]
  },
  {
   "cell_type": "code",
   "execution_count": 34,
   "metadata": {},
   "outputs": [
    {
     "name": "stdout",
     "output_type": "stream",
     "text": [
      "Wall time: 1min 1s\n"
     ]
    },
    {
     "data": {
      "text/html": [
       "<div>\n",
       "<style scoped>\n",
       "    .dataframe tbody tr th:only-of-type {\n",
       "        vertical-align: middle;\n",
       "    }\n",
       "\n",
       "    .dataframe tbody tr th {\n",
       "        vertical-align: top;\n",
       "    }\n",
       "\n",
       "    .dataframe thead th {\n",
       "        text-align: right;\n",
       "    }\n",
       "</style>\n",
       "<table border=\"1\" class=\"dataframe\">\n",
       "  <thead>\n",
       "    <tr style=\"text-align: right;\">\n",
       "      <th></th>\n",
       "      <th>TagCount</th>\n",
       "      <th>ViewCount</th>\n",
       "    </tr>\n",
       "    <tr>\n",
       "      <th>Tag</th>\n",
       "      <th></th>\n",
       "      <th></th>\n",
       "    </tr>\n",
       "  </thead>\n",
       "  <tbody>\n",
       "    <tr>\n",
       "      <th>machine-learning</th>\n",
       "      <td>9924</td>\n",
       "      <td>16701409</td>\n",
       "    </tr>\n",
       "    <tr>\n",
       "      <th>python</th>\n",
       "      <td>5930</td>\n",
       "      <td>17462725</td>\n",
       "    </tr>\n",
       "    <tr>\n",
       "      <th>deep-learning</th>\n",
       "      <td>4247</td>\n",
       "      <td>8044329</td>\n",
       "    </tr>\n",
       "    <tr>\n",
       "      <th>neural-network</th>\n",
       "      <td>3973</td>\n",
       "      <td>8265696</td>\n",
       "    </tr>\n",
       "    <tr>\n",
       "      <th>classification</th>\n",
       "      <td>2849</td>\n",
       "      <td>3734893</td>\n",
       "    </tr>\n",
       "    <tr>\n",
       "      <th>keras</th>\n",
       "      <td>2580</td>\n",
       "      <td>5921240</td>\n",
       "    </tr>\n",
       "    <tr>\n",
       "      <th>nlp</th>\n",
       "      <td>2182</td>\n",
       "      <td>2532639</td>\n",
       "    </tr>\n",
       "    <tr>\n",
       "      <th>tensorflow</th>\n",
       "      <td>2020</td>\n",
       "      <td>3330990</td>\n",
       "    </tr>\n",
       "    <tr>\n",
       "      <th>scikit-learn</th>\n",
       "      <td>2013</td>\n",
       "      <td>6524716</td>\n",
       "    </tr>\n",
       "    <tr>\n",
       "      <th>time-series</th>\n",
       "      <td>1567</td>\n",
       "      <td>1687202</td>\n",
       "    </tr>\n",
       "    <tr>\n",
       "      <th>r</th>\n",
       "      <td>1381</td>\n",
       "      <td>3367940</td>\n",
       "    </tr>\n",
       "    <tr>\n",
       "      <th>regression</th>\n",
       "      <td>1342</td>\n",
       "      <td>1613967</td>\n",
       "    </tr>\n",
       "    <tr>\n",
       "      <th>dataset</th>\n",
       "      <td>1302</td>\n",
       "      <td>1979254</td>\n",
       "    </tr>\n",
       "    <tr>\n",
       "      <th>clustering</th>\n",
       "      <td>1241</td>\n",
       "      <td>1934513</td>\n",
       "    </tr>\n",
       "    <tr>\n",
       "      <th>cnn</th>\n",
       "      <td>1241</td>\n",
       "      <td>1342696</td>\n",
       "    </tr>\n",
       "    <tr>\n",
       "      <th>pandas</th>\n",
       "      <td>1153</td>\n",
       "      <td>7210819</td>\n",
       "    </tr>\n",
       "    <tr>\n",
       "      <th>data-mining</th>\n",
       "      <td>1117</td>\n",
       "      <td>2066953</td>\n",
       "    </tr>\n",
       "    <tr>\n",
       "      <th>predictive-modeling</th>\n",
       "      <td>1066</td>\n",
       "      <td>1193598</td>\n",
       "    </tr>\n",
       "    <tr>\n",
       "      <th>lstm</th>\n",
       "      <td>1025</td>\n",
       "      <td>1373607</td>\n",
       "    </tr>\n",
       "    <tr>\n",
       "      <th>statistics</th>\n",
       "      <td>973</td>\n",
       "      <td>1534352</td>\n",
       "    </tr>\n",
       "  </tbody>\n",
       "</table>\n",
       "</div>"
      ],
      "text/plain": [
       "                     TagCount  ViewCount\n",
       "Tag                                     \n",
       "machine-learning         9924   16701409\n",
       "python                   5930   17462725\n",
       "deep-learning            4247    8044329\n",
       "neural-network           3973    8265696\n",
       "classification           2849    3734893\n",
       "keras                    2580    5921240\n",
       "nlp                      2182    2532639\n",
       "tensorflow               2020    3330990\n",
       "scikit-learn             2013    6524716\n",
       "time-series              1567    1687202\n",
       "r                        1381    3367940\n",
       "regression               1342    1613967\n",
       "dataset                  1302    1979254\n",
       "clustering               1241    1934513\n",
       "cnn                      1241    1342696\n",
       "pandas                   1153    7210819\n",
       "data-mining              1117    2066953\n",
       "predictive-modeling      1066    1193598\n",
       "lstm                     1025    1373607\n",
       "statistics                973    1534352"
      ]
     },
     "execution_count": 34,
     "metadata": {},
     "output_type": "execute_result"
    }
   ],
   "source": [
    "%%time\n",
    "# counting cumulated question views with tag assigned\n",
    "\n",
    "alltime_tagfreq['ViewCount'] = 0\n",
    "                                             \n",
    "for itag in alltime_tagfreq.index:\n",
    "    alltime_tagfreq.at[itag,'ViewCount'] = tag_counter(itag=itag, df=allquest, targetcol=2)\n",
    "    \n",
    "alltime_tagfreq.iloc[0:20,:]"
   ]
  },
  {
   "cell_type": "markdown",
   "metadata": {},
   "source": [
    "now lets label these questions in allquest that we consider deep-learning questions:"
   ]
  },
  {
   "cell_type": "code",
   "execution_count": 35,
   "metadata": {},
   "outputs": [],
   "source": [
    "def label_deep_learning(qtags, associated_tags=associated_tags):\n",
    "    if (True in [(t in associated_tags) for t in qtags]): return True \n",
    "    else: return False"
   ]
  },
  {
   "cell_type": "code",
   "execution_count": 36,
   "metadata": {},
   "outputs": [
    {
     "name": "stdout",
     "output_type": "stream",
     "text": [
      "Wall time: 41 ms\n"
     ]
    }
   ],
   "source": [
    "%%time\n",
    "allquest['deep-learning'] = allquest.Tags.apply(lambda x: label_deep_learning(x.split(\",\")))"
   ]
  },
  {
   "cell_type": "code",
   "execution_count": 37,
   "metadata": {},
   "outputs": [
    {
     "data": {
      "text/html": [
       "<div>\n",
       "<style scoped>\n",
       "    .dataframe tbody tr th:only-of-type {\n",
       "        vertical-align: middle;\n",
       "    }\n",
       "\n",
       "    .dataframe tbody tr th {\n",
       "        vertical-align: top;\n",
       "    }\n",
       "\n",
       "    .dataframe thead th {\n",
       "        text-align: right;\n",
       "    }\n",
       "</style>\n",
       "<table border=\"1\" class=\"dataframe\">\n",
       "  <thead>\n",
       "    <tr style=\"text-align: right;\">\n",
       "      <th></th>\n",
       "      <th>Id</th>\n",
       "      <th>CreationDate</th>\n",
       "      <th>Tags</th>\n",
       "      <th>ViewCount</th>\n",
       "      <th>deep-learning</th>\n",
       "    </tr>\n",
       "  </thead>\n",
       "  <tbody>\n",
       "    <tr>\n",
       "      <th>0</th>\n",
       "      <td>90018</td>\n",
       "      <td>2021-02-27 10:13:26</td>\n",
       "      <td>neural-network,nlp,rnn,sequence-to-sequence,</td>\n",
       "      <td>69</td>\n",
       "      <td>True</td>\n",
       "    </tr>\n",
       "    <tr>\n",
       "      <th>1</th>\n",
       "      <td>90020</td>\n",
       "      <td>2021-02-27 11:37:46</td>\n",
       "      <td>lstm,transformer,parameter,</td>\n",
       "      <td>18</td>\n",
       "      <td>True</td>\n",
       "    </tr>\n",
       "    <tr>\n",
       "      <th>2</th>\n",
       "      <td>90023</td>\n",
       "      <td>2021-02-27 14:02:28</td>\n",
       "      <td>machine-learning,clustering,similarity,</td>\n",
       "      <td>229</td>\n",
       "      <td>False</td>\n",
       "    </tr>\n",
       "    <tr>\n",
       "      <th>3</th>\n",
       "      <td>90026</td>\n",
       "      <td>2021-02-27 15:06:52</td>\n",
       "      <td>machine-learning,accuracy,naive-bayes-classifier,</td>\n",
       "      <td>453</td>\n",
       "      <td>False</td>\n",
       "    </tr>\n",
       "    <tr>\n",
       "      <th>4</th>\n",
       "      <td>90027</td>\n",
       "      <td>2021-02-27 16:08:02</td>\n",
       "      <td>machine-learning,regression,linear-regression,...</td>\n",
       "      <td>63</td>\n",
       "      <td>False</td>\n",
       "    </tr>\n",
       "  </tbody>\n",
       "</table>\n",
       "</div>"
      ],
      "text/plain": [
       "      Id        CreationDate  \\\n",
       "0  90018 2021-02-27 10:13:26   \n",
       "1  90020 2021-02-27 11:37:46   \n",
       "2  90023 2021-02-27 14:02:28   \n",
       "3  90026 2021-02-27 15:06:52   \n",
       "4  90027 2021-02-27 16:08:02   \n",
       "\n",
       "                                                Tags  ViewCount  deep-learning  \n",
       "0       neural-network,nlp,rnn,sequence-to-sequence,         69           True  \n",
       "1                        lstm,transformer,parameter,         18           True  \n",
       "2            machine-learning,clustering,similarity,        229          False  \n",
       "3  machine-learning,accuracy,naive-bayes-classifier,        453          False  \n",
       "4  machine-learning,regression,linear-regression,...         63          False  "
      ]
     },
     "execution_count": 37,
     "metadata": {},
     "output_type": "execute_result"
    }
   ],
   "source": [
    "allquest.head()"
   ]
  },
  {
   "cell_type": "markdown",
   "metadata": {},
   "source": [
    "Now that we have labels attached, we can explore this deep-learning subset further:\n",
    "\n",
    "- We check the how the frequency of deep learning questions evolves over time.\n",
    "- And how the ratio of deep-learning developed over time and if & how much it gained importance."
   ]
  },
  {
   "cell_type": "code",
   "execution_count": 39,
   "metadata": {},
   "outputs": [
    {
     "data": {
      "text/html": [
       "<div>\n",
       "<style scoped>\n",
       "    .dataframe tbody tr th:only-of-type {\n",
       "        vertical-align: middle;\n",
       "    }\n",
       "\n",
       "    .dataframe tbody tr th {\n",
       "        vertical-align: top;\n",
       "    }\n",
       "\n",
       "    .dataframe thead th {\n",
       "        text-align: right;\n",
       "    }\n",
       "</style>\n",
       "<table border=\"1\" class=\"dataframe\">\n",
       "  <thead>\n",
       "    <tr style=\"text-align: right;\">\n",
       "      <th></th>\n",
       "      <th>Id</th>\n",
       "      <th>CreationDate</th>\n",
       "      <th>Tags</th>\n",
       "      <th>ViewCount</th>\n",
       "      <th>deep-learning</th>\n",
       "    </tr>\n",
       "    <tr>\n",
       "      <th>CreationDate</th>\n",
       "      <th></th>\n",
       "      <th></th>\n",
       "      <th></th>\n",
       "      <th></th>\n",
       "      <th></th>\n",
       "    </tr>\n",
       "  </thead>\n",
       "  <tbody>\n",
       "    <tr>\n",
       "      <th>2016-06-30</th>\n",
       "      <td>120</td>\n",
       "      <td>120</td>\n",
       "      <td>120</td>\n",
       "      <td>120</td>\n",
       "      <td>120</td>\n",
       "    </tr>\n",
       "    <tr>\n",
       "      <th>2017-09-30</th>\n",
       "      <td>255</td>\n",
       "      <td>255</td>\n",
       "      <td>255</td>\n",
       "      <td>255</td>\n",
       "      <td>255</td>\n",
       "    </tr>\n",
       "  </tbody>\n",
       "</table>\n",
       "</div>"
      ],
      "text/plain": [
       "               Id  CreationDate  Tags  ViewCount  deep-learning\n",
       "CreationDate                                                   \n",
       "2016-06-30    120           120   120        120            120\n",
       "2017-09-30    255           255   255        255            255"
      ]
     },
     "execution_count": 39,
     "metadata": {},
     "output_type": "execute_result"
    }
   ],
   "source": [
    "quarterly = allquest[allquest['deep-learning'] == True].resample('Q', on='CreationDate').count()\n",
    "quarterly.sample(2)"
   ]
  },
  {
   "cell_type": "code",
   "execution_count": 40,
   "metadata": {},
   "outputs": [
    {
     "data": {
      "image/png": "[encoded data removed]",
      "text/plain": [
       "<Figure size 864x576 with 1 Axes>"
      ]
     },
     "metadata": {},
     "output_type": "display_data"
    }
   ],
   "source": [
    "import matplotlib.pyplot as plt\n",
    "from matplotlib.dates import DateFormatter\n",
    "import matplotlib.dates as mdates\n",
    "import seaborn as sns\n",
    "\n",
    "ax = quarterly.plot(kind='bar', use_index=True, y='Id', rot=50)\n",
    "ax.legend([\"Number of Questions\"]);\n",
    "x_labels = quarterly.index.strftime('%m/%y')\n",
    "ax.set_xticklabels(x_labels)\n",
    "plt.title('Number of posted Deep-Learning Questions on Data Science Stack Exchange')\n",
    "plt.show()"
   ]
  },
  {
   "cell_type": "markdown",
   "metadata": {},
   "source": [
    "At the time of data extraction 1st Quarter of 2022 just had startede, we will remove this incomplete quarter in successive analyses.\n",
    "\n",
    "Lets move on with "
   ]
  },
  {
   "cell_type": "code",
   "execution_count": 60,
   "metadata": {},
   "outputs": [
    {
     "data": {
      "text/html": [
       "<div>\n",
       "<style scoped>\n",
       "    .dataframe tbody tr th:only-of-type {\n",
       "        vertical-align: middle;\n",
       "    }\n",
       "\n",
       "    .dataframe tbody tr th {\n",
       "        vertical-align: top;\n",
       "    }\n",
       "\n",
       "    .dataframe thead th {\n",
       "        text-align: right;\n",
       "    }\n",
       "</style>\n",
       "<table border=\"1\" class=\"dataframe\">\n",
       "  <thead>\n",
       "    <tr style=\"text-align: right;\">\n",
       "      <th></th>\n",
       "      <th>Id</th>\n",
       "    </tr>\n",
       "    <tr>\n",
       "      <th>CreationDate</th>\n",
       "      <th></th>\n",
       "    </tr>\n",
       "  </thead>\n",
       "  <tbody>\n",
       "    <tr>\n",
       "      <th>2021-12-31</th>\n",
       "      <td>902</td>\n",
       "    </tr>\n",
       "    <tr>\n",
       "      <th>2022-03-31</th>\n",
       "      <td>91</td>\n",
       "    </tr>\n",
       "  </tbody>\n",
       "</table>\n",
       "</div>"
      ],
      "text/plain": [
       "               Id\n",
       "CreationDate     \n",
       "2021-12-31    902\n",
       "2022-03-31     91"
      ]
     },
     "execution_count": 60,
     "metadata": {},
     "output_type": "execute_result"
    }
   ],
   "source": [
    "nonquarterly = allquest[allquest['deep-learning'] == False].resample('Q', on='CreationDate').count()\n",
    "nonquarterly = nonquarterly.drop(['CreationDate','Tags','ViewCount','deep-learning'], axis=1)\n",
    "nonquarterly.tail(2)"
   ]
  },
  {
   "cell_type": "code",
   "execution_count": 58,
   "metadata": {},
   "outputs": [
    {
     "data": {
      "text/html": [
       "<div>\n",
       "<style scoped>\n",
       "    .dataframe tbody tr th:only-of-type {\n",
       "        vertical-align: middle;\n",
       "    }\n",
       "\n",
       "    .dataframe tbody tr th {\n",
       "        vertical-align: top;\n",
       "    }\n",
       "\n",
       "    .dataframe thead th {\n",
       "        text-align: right;\n",
       "    }\n",
       "</style>\n",
       "<table border=\"1\" class=\"dataframe\">\n",
       "  <thead>\n",
       "    <tr style=\"text-align: right;\">\n",
       "      <th></th>\n",
       "      <th>non_dl</th>\n",
       "      <th>dl</th>\n",
       "    </tr>\n",
       "    <tr>\n",
       "      <th>CreationDate</th>\n",
       "      <th></th>\n",
       "      <th></th>\n",
       "    </tr>\n",
       "  </thead>\n",
       "  <tbody>\n",
       "    <tr>\n",
       "      <th>2021-09-30</th>\n",
       "      <td>910</td>\n",
       "      <td>685</td>\n",
       "    </tr>\n",
       "    <tr>\n",
       "      <th>2021-12-31</th>\n",
       "      <td>902</td>\n",
       "      <td>607</td>\n",
       "    </tr>\n",
       "  </tbody>\n",
       "</table>\n",
       "</div>"
      ],
      "text/plain": [
       "              non_dl   dl\n",
       "CreationDate             \n",
       "2021-09-30       910  685\n",
       "2021-12-31       902  607"
      ]
     },
     "execution_count": 58,
     "metadata": {},
     "output_type": "execute_result"
    }
   ],
   "source": [
    "# create a dictonary\n",
    "data = {\"non_dl\": nonquarterly.Id,\n",
    "        \"dl\": quarterly.Id}\n",
    "\n",
    "combined_quarterly = pd.DataFrame(data )\n",
    "combined_quarterly.drop(combined_quarterly.tail(1).index,inplace=True) # drop last incomplete quarter\n",
    "combined_quarterly.tail(2)"
   ]
  },
  {
   "cell_type": "code",
   "execution_count": 62,
   "metadata": {},
   "outputs": [
    {
     "data": {
      "image/png": "[encoded data removed]",
      "text/plain": [
       "<Figure size 864x576 with 1 Axes>"
      ]
     },
     "metadata": {},
     "output_type": "display_data"
    }
   ],
   "source": [
    "ax = combined_quarterly.plot(kind='bar', use_index=True, stacked=True, rot=50)\n",
    "ax.legend([\"Non DL-Questions\", \"DL Questions\"]);\n",
    "x_labels = combined_quarterly.index.strftime('%m/%y')\n",
    "ax.set_xticklabels(x_labels)\n",
    "plt.title('Number of posted Data Science Questions on Data Science Stack Exchange')\n",
    "plt.show()"
   ]
  },
  {
   "cell_type": "markdown",
   "metadata": {},
   "source": [
    "The overall growth of Data Science questions on the Data Science Exchange stagnates for 3 years now already."
   ]
  },
  {
   "cell_type": "code",
   "execution_count": 73,
   "metadata": {},
   "outputs": [
    {
     "data": {
      "text/plain": [
       "1640.0"
      ]
     },
     "execution_count": 73,
     "metadata": {},
     "output_type": "execute_result"
    }
   ],
   "source": [
    "combined_quarterly.loc['2019-03-31':,:].sum(axis=1).mean().round()"
   ]
  },
  {
   "cell_type": "code",
   "execution_count": 72,
   "metadata": {},
   "outputs": [
    {
     "data": {
      "text/plain": [
       "194.0"
      ]
     },
     "execution_count": 72,
     "metadata": {},
     "output_type": "execute_result"
    }
   ],
   "source": [
    "combined_quarterly.loc['2019-03-31':,:].sum(axis=1).std().round()"
   ]
  },
  {
   "cell_type": "markdown",
   "metadata": {},
   "source": [
    "Since 2019 the number of Questions overall per Quarter oscillates around a mean of 1640 with a Standard Deviation of 194.\n",
    "\n",
    "Let's check the ratios as well:"
   ]
  },
  {
   "cell_type": "code",
   "execution_count": 90,
   "metadata": {},
   "outputs": [],
   "source": [
    "comb_ratio_quarterly = combined_quarterly.copy()\n",
    "comb_ratio_quarterly['total'] = comb_ratio_quarterly.sum(axis=1) # row summing"
   ]
  },
  {
   "cell_type": "code",
   "execution_count": 91,
   "metadata": {},
   "outputs": [],
   "source": [
    "comb_ratio_quarterly.non_dl = comb_ratio_quarterly.non_dl /  comb_ratio_quarterly.total\n",
    "comb_ratio_quarterly.dl = comb_ratio_quarterly.dl /  comb_ratio_quarterly.total\n",
    "comb_ratio_quarterly = comb_ratio_quarterly.drop('total', axis=1)\n",
    "comb_ratio_quarterly.drop(comb_ratio_quarterly.tail(1).index,inplace=True) # drop last incomplete quarter"
   ]
  },
  {
   "cell_type": "code",
   "execution_count": 93,
   "metadata": {},
   "outputs": [
    {
     "data": {
      "text/html": [
       "<div>\n",
       "<style scoped>\n",
       "    .dataframe tbody tr th:only-of-type {\n",
       "        vertical-align: middle;\n",
       "    }\n",
       "\n",
       "    .dataframe tbody tr th {\n",
       "        vertical-align: top;\n",
       "    }\n",
       "\n",
       "    .dataframe thead th {\n",
       "        text-align: right;\n",
       "    }\n",
       "</style>\n",
       "<table border=\"1\" class=\"dataframe\">\n",
       "  <thead>\n",
       "    <tr style=\"text-align: right;\">\n",
       "      <th></th>\n",
       "      <th>non_dl</th>\n",
       "      <th>dl</th>\n",
       "    </tr>\n",
       "    <tr>\n",
       "      <th>CreationDate</th>\n",
       "      <th></th>\n",
       "      <th></th>\n",
       "    </tr>\n",
       "  </thead>\n",
       "  <tbody>\n",
       "    <tr>\n",
       "      <th>2021-09-30</th>\n",
       "      <td>0.570533</td>\n",
       "      <td>0.429467</td>\n",
       "    </tr>\n",
       "    <tr>\n",
       "      <th>2020-12-31</th>\n",
       "      <td>0.562914</td>\n",
       "      <td>0.437086</td>\n",
       "    </tr>\n",
       "  </tbody>\n",
       "</table>\n",
       "</div>"
      ],
      "text/plain": [
       "                non_dl        dl\n",
       "CreationDate                    \n",
       "2021-09-30    0.570533  0.429467\n",
       "2020-12-31    0.562914  0.437086"
      ]
     },
     "execution_count": 93,
     "metadata": {},
     "output_type": "execute_result"
    }
   ],
   "source": [
    "comb_ratio_quarterly.sample(2)"
   ]
  },
  {
   "cell_type": "code",
   "execution_count": 94,
   "metadata": {},
   "outputs": [
    {
     "data": {
      "image/png": "[encoded data removed]",
      "text/plain": [
       "<Figure size 864x576 with 1 Axes>"
      ]
     },
     "metadata": {},
     "output_type": "display_data"
    }
   ],
   "source": [
    "import matplotlib.ticker as mtick\n",
    "\n",
    "ax = comb_ratio_quarterly.plot(kind='bar', use_index=True, stacked=True, rot=50)\n",
    "ax.legend([\"Non Deep-Learning Questions\", \"Deep-Learning Questions\"]);\n",
    "x_labels = comb_ratio_quarterly.index.strftime('%m/%y')\n",
    "ax.set_xticklabels(x_labels)\n",
    "ax.yaxis.set_major_formatter(mtick.PercentFormatter(1.0))\n",
    "plt.title('Ratios of posted Questions on Data Science Stack Exchange')\n",
    "plt.legend([\"Non Deep-Learning Questions\", \"Deep-Learning Questions\"], bbox_to_anchor=(1,1), loc=\"upper center\")\n",
    "plt.show()"
   ]
  },
  {
   "cell_type": "markdown",
   "metadata": {},
   "source": [
    "### Conclusion\n",
    "\n",
    "The strong trend of deep-learning related questions in the early years had lost steam with the end of the year 2018 and entered a stable sideways trend, keeping a good share of 40% for now 3 years pretty stable. This is true for both Data Science questions in general and Deep-Learning questions in particular."
   ]
  }
 ],
 "metadata": {
  "kernelspec": {
   "display_name": "Python 3",
   "language": "python",
   "name": "python3"
  },
  "language_info": {
   "codemirror_mode": {
    "name": "ipython",
    "version": 3
   },
   "file_extension": ".py",
   "mimetype": "text/x-python",
   "name": "python",
   "nbconvert_exporter": "python",
   "pygments_lexer": "ipython3",
   "version": "3.6.12"
  }
 },
 "nbformat": 4,
 "nbformat_minor": 2
}
